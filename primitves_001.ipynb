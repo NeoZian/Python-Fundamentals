{
 "cells": [
  {
   "cell_type": "code",
   "execution_count": 1,
   "id": "2f3ca364",
   "metadata": {},
   "outputs": [],
   "source": [
    "#int "
   ]
  },
  {
   "cell_type": "code",
   "execution_count": 2,
   "id": "ad2a88b7",
   "metadata": {},
   "outputs": [],
   "source": [
    "a = 10"
   ]
  },
  {
   "cell_type": "code",
   "execution_count": 3,
   "id": "6a584b27",
   "metadata": {},
   "outputs": [
    {
     "name": "stdout",
     "output_type": "stream",
     "text": [
      "10\n"
     ]
    }
   ],
   "source": [
    "print(a)"
   ]
  },
  {
   "cell_type": "code",
   "execution_count": 4,
   "id": "9fc3003e",
   "metadata": {},
   "outputs": [
    {
     "data": {
      "text/plain": [
       "10"
      ]
     },
     "execution_count": 4,
     "metadata": {},
     "output_type": "execute_result"
    }
   ],
   "source": [
    "a  #look there is a numbered output [4] 10, when i directly print a! instead of using print() function"
   ]
  },
  {
   "cell_type": "code",
   "execution_count": 5,
   "id": "d042bff5",
   "metadata": {},
   "outputs": [
    {
     "data": {
      "text/plain": [
       "int"
      ]
     },
     "execution_count": 5,
     "metadata": {},
     "output_type": "execute_result"
    }
   ],
   "source": [
    "type(a)"
   ]
  },
  {
   "cell_type": "code",
   "execution_count": 7,
   "id": "dc9e600b",
   "metadata": {},
   "outputs": [],
   "source": [
    "a = \"jewel\""
   ]
  },
  {
   "cell_type": "code",
   "execution_count": 9,
   "id": "3304c76b",
   "metadata": {},
   "outputs": [
    {
     "data": {
      "text/plain": [
       "'jewel'"
      ]
     },
     "execution_count": 9,
     "metadata": {},
     "output_type": "execute_result"
    }
   ],
   "source": [
    "a"
   ]
  },
  {
   "cell_type": "code",
   "execution_count": 10,
   "id": "eba99a9c",
   "metadata": {},
   "outputs": [
    {
     "data": {
      "text/plain": [
       "str"
      ]
     },
     "execution_count": 10,
     "metadata": {},
     "output_type": "execute_result"
    }
   ],
   "source": [
    "type(a)    #type has been changed automatically since Python is a Dynamic Language!"
   ]
  },
  {
   "cell_type": "code",
   "execution_count": 11,
   "id": "633f83a4",
   "metadata": {},
   "outputs": [],
   "source": [
    "a =10"
   ]
  },
  {
   "cell_type": "code",
   "execution_count": 12,
   "id": "ba69f23f",
   "metadata": {},
   "outputs": [],
   "source": [
    "b=10"
   ]
  },
  {
   "cell_type": "code",
   "execution_count": 13,
   "id": "2c658bd3",
   "metadata": {},
   "outputs": [
    {
     "data": {
      "text/plain": [
       "True"
      ]
     },
     "execution_count": 13,
     "metadata": {},
     "output_type": "execute_result"
    }
   ],
   "source": [
    "a == b"
   ]
  },
  {
   "cell_type": "code",
   "execution_count": 15,
   "id": "e84b8deb",
   "metadata": {},
   "outputs": [
    {
     "data": {
      "text/plain": [
       "True"
      ]
     },
     "execution_count": 15,
     "metadata": {},
     "output_type": "execute_result"
    }
   ],
   "source": [
    "a is b  # that means they are referring to the same object as the output is true"
   ]
  },
  {
   "cell_type": "code",
   "execution_count": 16,
   "id": "cedd8af3",
   "metadata": {},
   "outputs": [],
   "source": [
    "a =  257"
   ]
  },
  {
   "cell_type": "code",
   "execution_count": 17,
   "id": "80df9510",
   "metadata": {},
   "outputs": [],
   "source": [
    "b= 257"
   ]
  },
  {
   "cell_type": "code",
   "execution_count": 18,
   "id": "376a47c5",
   "metadata": {},
   "outputs": [
    {
     "data": {
      "text/plain": [
       "True"
      ]
     },
     "execution_count": 18,
     "metadata": {},
     "output_type": "execute_result"
    }
   ],
   "source": [
    "a == b"
   ]
  },
  {
   "cell_type": "code",
   "execution_count": 20,
   "id": "3605e3fa",
   "metadata": {},
   "outputs": [
    {
     "data": {
      "text/plain": [
       "False"
      ]
     },
     "execution_count": 20,
     "metadata": {},
     "output_type": "execute_result"
    }
   ],
   "source": [
    "a is b   "
   ]
  },
  {
   "cell_type": "markdown",
   "id": "e57ba585",
   "metadata": {},
   "source": [
    "hah!! instresting? yes they are not reffering to the same object since in Python from -6 to 256, all these values are reserved always!"
   ]
  },
  {
   "cell_type": "code",
   "execution_count": null,
   "id": "740de438",
   "metadata": {},
   "outputs": [],
   "source": []
  },
  {
   "cell_type": "code",
   "execution_count": null,
   "id": "fa6f4b11",
   "metadata": {},
   "outputs": [],
   "source": []
  }
 ],
 "metadata": {
  "kernelspec": {
   "display_name": "Python 3 (ipykernel)",
   "language": "python",
   "name": "python3"
  },
  "language_info": {
   "codemirror_mode": {
    "name": "ipython",
    "version": 3
   },
   "file_extension": ".py",
   "mimetype": "text/x-python",
   "name": "python",
   "nbconvert_exporter": "python",
   "pygments_lexer": "ipython3",
   "version": "3.10.9"
  }
 },
 "nbformat": 4,
 "nbformat_minor": 5
}
