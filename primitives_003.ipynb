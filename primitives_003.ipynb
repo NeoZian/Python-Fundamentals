{
 "cells": [
  {
   "cell_type": "code",
   "execution_count": 5,
   "id": "5633df39",
   "metadata": {},
   "outputs": [],
   "source": [
    "a = 3\n",
    "b = 2\n"
   ]
  },
  {
   "cell_type": "code",
   "execution_count": 6,
   "id": "ce90d7ea",
   "metadata": {},
   "outputs": [
    {
     "data": {
      "text/plain": [
       "5"
      ]
     },
     "execution_count": 6,
     "metadata": {},
     "output_type": "execute_result"
    }
   ],
   "source": [
    "a+b"
   ]
  },
  {
   "cell_type": "code",
   "execution_count": 7,
   "id": "a9d8103b",
   "metadata": {},
   "outputs": [
    {
     "data": {
      "text/plain": [
       "1.5"
      ]
     },
     "execution_count": 7,
     "metadata": {},
     "output_type": "execute_result"
    }
   ],
   "source": [
    "a/b"
   ]
  },
  {
   "cell_type": "code",
   "execution_count": 9,
   "id": "90e59349",
   "metadata": {},
   "outputs": [
    {
     "data": {
      "text/plain": [
       "1"
      ]
     },
     "execution_count": 9,
     "metadata": {},
     "output_type": "execute_result"
    }
   ],
   "source": [
    "a//b   #returns floor value"
   ]
  },
  {
   "cell_type": "code",
   "execution_count": 16,
   "id": "b1944293",
   "metadata": {},
   "outputs": [],
   "source": [
    "str  = 'c'  #char for  '' , for string: \"\""
   ]
  },
  {
   "cell_type": "code",
   "execution_count": 11,
   "id": "0aea9faa",
   "metadata": {},
   "outputs": [
    {
     "data": {
      "text/plain": [
       "str"
      ]
     },
     "execution_count": 11,
     "metadata": {},
     "output_type": "execute_result"
    }
   ],
   "source": [
    "type(str)"
   ]
  },
  {
   "cell_type": "code",
   "execution_count": 14,
   "id": "08514e4b",
   "metadata": {},
   "outputs": [
    {
     "data": {
      "text/plain": [
       "True"
      ]
     },
     "execution_count": 14,
     "metadata": {},
     "output_type": "execute_result"
    }
   ],
   "source": [
    "True   #boolean"
   ]
  },
  {
   "cell_type": "code",
   "execution_count": 15,
   "id": "262119bb",
   "metadata": {},
   "outputs": [
    {
     "data": {
      "text/plain": [
       "False"
      ]
     },
     "execution_count": 15,
     "metadata": {},
     "output_type": "execute_result"
    }
   ],
   "source": [
    "False    #boolean"
   ]
  },
  {
   "cell_type": "code",
   "execution_count": null,
   "id": "1e871c0f",
   "metadata": {},
   "outputs": [],
   "source": []
  }
 ],
 "metadata": {
  "kernelspec": {
   "display_name": "Python 3 (ipykernel)",
   "language": "python",
   "name": "python3"
  },
  "language_info": {
   "codemirror_mode": {
    "name": "ipython",
    "version": 3
   },
   "file_extension": ".py",
   "mimetype": "text/x-python",
   "name": "python",
   "nbconvert_exporter": "python",
   "pygments_lexer": "ipython3",
   "version": "3.10.9"
  }
 },
 "nbformat": 4,
 "nbformat_minor": 5
}
