{
 "cells": [
  {
   "cell_type": "code",
   "execution_count": 1,
   "id": "ac20b26d",
   "metadata": {},
   "outputs": [],
   "source": [
    "a = 10.5"
   ]
  },
  {
   "cell_type": "code",
   "execution_count": 2,
   "id": "7b7a1b2a",
   "metadata": {},
   "outputs": [
    {
     "data": {
      "text/plain": [
       "float"
      ]
     },
     "execution_count": 2,
     "metadata": {},
     "output_type": "execute_result"
    }
   ],
   "source": [
    "type(a)"
   ]
  },
  {
   "cell_type": "code",
   "execution_count": 3,
   "id": "e87d0267",
   "metadata": {},
   "outputs": [],
   "source": [
    "#wguess whats the size of int in python??"
   ]
  },
  {
   "cell_type": "code",
   "execution_count": 4,
   "id": "5e71482d",
   "metadata": {},
   "outputs": [],
   "source": [
    "a = 23423423423423453453534545345345345435435435345345435"
   ]
  },
  {
   "cell_type": "code",
   "execution_count": 5,
   "id": "3bf42613",
   "metadata": {},
   "outputs": [
    {
     "data": {
      "text/plain": [
       "23423423423423453453534545345345345435435435345345435"
      ]
     },
     "execution_count": 5,
     "metadata": {},
     "output_type": "execute_result"
    }
   ],
   "source": [
    "a"
   ]
  },
  {
   "cell_type": "code",
   "execution_count": 10,
   "id": "89b4fcaf",
   "metadata": {},
   "outputs": [
    {
     "data": {
      "text/plain": [
       "49716860002790219615428652780781123819888398732472259236140952712521828491966339672459580910752839589105495155152967824819761356862689997258805665652719052416018426307044937620430316572236419626319307672613581730559621335824413350623820240129681823440553272453498496368803871088510149384539454599992167528701489137033479577259551246933947993119297299030351907003068716237978074556051676432126368273139298284750774447670629673649065242156462077957277768095934566917525281791844127773361306070598374609248358318283191884765625"
      ]
     },
     "execution_count": 10,
     "metadata": {},
     "output_type": "execute_result"
    }
   ],
   "source": [
    "a ** 10       # (a ** b) means a^b, ** => power(^)"
   ]
  },
  {
   "cell_type": "code",
   "execution_count": 11,
   "id": "9b88f5d2",
   "metadata": {},
   "outputs": [],
   "source": [
    "b = a ** 20"
   ]
  },
  {
   "cell_type": "code",
   "execution_count": 12,
   "id": "b527b084",
   "metadata": {},
   "outputs": [
    {
     "data": {
      "text/plain": [
       "2471766168537041915986825666083734466211216787427465597356872760113069258456836217268323630979926565443091966360486069812783675052743728005411379745174955733246180822575479324986189727089156802149206547085856053039111112516151458685125632855945907105849556187964874050128530052772558621453720043583425946696425389400043009469413970889175750561961910848715577698999000071855115725880222598166044507069005541926968383746421524908524729309209229483337895697527295614375655293431409747629799232928155659711632416531860668424852602991790826286341501369828670710020388808185939332043928197927193792223673118302795990376068180311589620388755165607162931242948679272902500946963062278703558108156984899203657796983765992960459728826955038769142684853362814413495283118378617565841502239817864790002422307169569983894539952509285580989575388023813244931196679052522257401901734779534387245705444789397365087656650093319710498242997356772138434443933356668471657901410536269507840292573856484014460297361053234538258524585163076454728542034607028961181640625"
      ]
     },
     "execution_count": 12,
     "metadata": {},
     "output_type": "execute_result"
    }
   ],
   "source": [
    "b"
   ]
  },
  {
   "cell_type": "markdown",
   "id": "ee244050",
   "metadata": {},
   "source": [
    "# so the size of int = the size of your RAM in Python"
   ]
  },
  {
   "cell_type": "code",
   "execution_count": 13,
   "id": "6368a79c",
   "metadata": {},
   "outputs": [
    {
     "data": {
      "text/plain": [
       "int"
      ]
     },
     "execution_count": 13,
     "metadata": {},
     "output_type": "execute_result"
    }
   ],
   "source": [
    "type(b)"
   ]
  },
  {
   "cell_type": "markdown",
   "id": "b88a1f8d",
   "metadata": {},
   "source": [
    "that's why python is pretty slow but easy to learn\n",
    ">another reason is that it is dynamic"
   ]
  },
  {
   "cell_type": "code",
   "execution_count": null,
   "id": "af97248c",
   "metadata": {},
   "outputs": [],
   "source": []
  }
 ],
 "metadata": {
  "kernelspec": {
   "display_name": "Python 3 (ipykernel)",
   "language": "python",
   "name": "python3"
  },
  "language_info": {
   "codemirror_mode": {
    "name": "ipython",
    "version": 3
   },
   "file_extension": ".py",
   "mimetype": "text/x-python",
   "name": "python",
   "nbconvert_exporter": "python",
   "pygments_lexer": "ipython3",
   "version": "3.10.9"
  }
 },
 "nbformat": 4,
 "nbformat_minor": 5
}
