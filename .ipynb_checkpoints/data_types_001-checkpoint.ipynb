{
 "cells": [
  {
   "cell_type": "markdown",
   "id": "e8980201",
   "metadata": {},
   "source": [
    "# list = []"
   ]
  },
  {
   "cell_type": "code",
   "execution_count": 1,
   "id": "1127ce7e",
   "metadata": {},
   "outputs": [],
   "source": [
    "#list[]\n",
    "\n",
    "a = [2,3,4,5]"
   ]
  },
  {
   "cell_type": "code",
   "execution_count": 2,
   "id": "81ee979e",
   "metadata": {},
   "outputs": [
    {
     "data": {
      "text/plain": [
       "[2, 3, 4, 5]"
      ]
     },
     "execution_count": 2,
     "metadata": {},
     "output_type": "execute_result"
    }
   ],
   "source": [
    "a"
   ]
  },
  {
   "cell_type": "code",
   "execution_count": 4,
   "id": "588cbbaa",
   "metadata": {},
   "outputs": [
    {
     "data": {
      "text/plain": [
       "2"
      ]
     },
     "execution_count": 4,
     "metadata": {},
     "output_type": "execute_result"
    }
   ],
   "source": [
    "a[0]"
   ]
  },
  {
   "cell_type": "code",
   "execution_count": 6,
   "id": "31a8678a",
   "metadata": {},
   "outputs": [
    {
     "data": {
      "text/plain": [
       "5"
      ]
     },
     "execution_count": 6,
     "metadata": {},
     "output_type": "execute_result"
    }
   ],
   "source": [
    "a[-1]     #{-} means from behind"
   ]
  },
  {
   "cell_type": "code",
   "execution_count": 10,
   "id": "8ca673b2",
   "metadata": {},
   "outputs": [],
   "source": [
    "b = [34,\"goal\",44.55]  #python is heterogenous"
   ]
  },
  {
   "cell_type": "code",
   "execution_count": 8,
   "id": "4a4e0288",
   "metadata": {},
   "outputs": [
    {
     "data": {
      "text/plain": [
       "[34, 'goal', 44.55]"
      ]
     },
     "execution_count": 8,
     "metadata": {},
     "output_type": "execute_result"
    }
   ],
   "source": [
    "b"
   ]
  },
  {
   "cell_type": "code",
   "execution_count": 9,
   "id": "946b09f6",
   "metadata": {},
   "outputs": [
    {
     "data": {
      "text/plain": [
       "'goal'"
      ]
     },
     "execution_count": 9,
     "metadata": {},
     "output_type": "execute_result"
    }
   ],
   "source": [
    "b[1]"
   ]
  },
  {
   "cell_type": "code",
   "execution_count": 11,
   "id": "f4a8659a",
   "metadata": {},
   "outputs": [],
   "source": [
    "mine = [12,13,14,15]"
   ]
  },
  {
   "cell_type": "code",
   "execution_count": 12,
   "id": "abc6aaf5",
   "metadata": {},
   "outputs": [],
   "source": [
    "your  = mine"
   ]
  },
  {
   "cell_type": "code",
   "execution_count": 13,
   "id": "314d22bc",
   "metadata": {},
   "outputs": [
    {
     "data": {
      "text/plain": [
       "13"
      ]
     },
     "execution_count": 13,
     "metadata": {},
     "output_type": "execute_result"
    }
   ],
   "source": [
    "mine[1]"
   ]
  },
  {
   "cell_type": "code",
   "execution_count": 14,
   "id": "33e8f42f",
   "metadata": {},
   "outputs": [
    {
     "data": {
      "text/plain": [
       "13"
      ]
     },
     "execution_count": 14,
     "metadata": {},
     "output_type": "execute_result"
    }
   ],
   "source": [
    "your[1]"
   ]
  },
  {
   "cell_type": "code",
   "execution_count": 18,
   "id": "2072e187",
   "metadata": {},
   "outputs": [],
   "source": [
    "your[1] =133  #referring to the same object so the objects gets changed too"
   ]
  },
  {
   "cell_type": "code",
   "execution_count": 16,
   "id": "a7f7edcf",
   "metadata": {},
   "outputs": [
    {
     "data": {
      "text/plain": [
       "133"
      ]
     },
     "execution_count": 16,
     "metadata": {},
     "output_type": "execute_result"
    }
   ],
   "source": [
    "mine[1]"
   ]
  },
  {
   "cell_type": "code",
   "execution_count": 17,
   "id": "b66afa21",
   "metadata": {},
   "outputs": [
    {
     "data": {
      "text/plain": [
       "[12, 133, 14, 15]"
      ]
     },
     "execution_count": 17,
     "metadata": {},
     "output_type": "execute_result"
    }
   ],
   "source": [
    "mine        "
   ]
  },
  {
   "cell_type": "markdown",
   "id": "1860984a",
   "metadata": {},
   "source": [
    "# so list[] is an example of MUTABLE in python (can be changed)"
   ]
  },
  {
   "cell_type": "markdown",
   "id": "c473c574",
   "metadata": {},
   "source": [
    "# tuple = ()"
   ]
  },
  {
   "cell_type": "code",
   "execution_count": 2,
   "id": "7e5faef7",
   "metadata": {},
   "outputs": [],
   "source": [
    "#tupple()"
   ]
  },
  {
   "cell_type": "code",
   "execution_count": 3,
   "id": "0615058d",
   "metadata": {},
   "outputs": [],
   "source": [
    " a = (1,3,7)"
   ]
  },
  {
   "cell_type": "code",
   "execution_count": 4,
   "id": "8e46070e",
   "metadata": {},
   "outputs": [
    {
     "data": {
      "text/plain": [
       "(1, 3, 7)"
      ]
     },
     "execution_count": 4,
     "metadata": {},
     "output_type": "execute_result"
    }
   ],
   "source": [
    "a"
   ]
  },
  {
   "cell_type": "code",
   "execution_count": 5,
   "id": "8ff7a804",
   "metadata": {},
   "outputs": [
    {
     "data": {
      "text/plain": [
       "1"
      ]
     },
     "execution_count": 5,
     "metadata": {},
     "output_type": "execute_result"
    }
   ],
   "source": [
    "a[0]"
   ]
  },
  {
   "cell_type": "code",
   "execution_count": 6,
   "id": "9210ccb0",
   "metadata": {},
   "outputs": [
    {
     "data": {
      "text/plain": [
       "7"
      ]
     },
     "execution_count": 6,
     "metadata": {},
     "output_type": "execute_result"
    }
   ],
   "source": [
    "a[-1]"
   ]
  },
  {
   "cell_type": "code",
   "execution_count": 26,
   "id": "baab8c43",
   "metadata": {},
   "outputs": [
    {
     "ename": "TypeError",
     "evalue": "'NoneType' object does not support item assignment",
     "output_type": "error",
     "traceback": [
      "\u001b[0;31m---------------------------------------------------------------------------\u001b[0m",
      "\u001b[0;31mTypeError\u001b[0m                                 Traceback (most recent call last)",
      "Cell \u001b[0;32mIn[26], line 1\u001b[0m\n\u001b[0;32m----> 1\u001b[0m a[\u001b[38;5;241m1\u001b[39m] \u001b[38;5;241m=\u001b[39m \u001b[38;5;241m33\u001b[39m\n",
      "\u001b[0;31mTypeError\u001b[0m: 'NoneType' object does not support item assignment"
     ]
    }
   ],
   "source": [
    "a[1] = 33  #can't do this way; tupple is immutable "
   ]
  },
  {
   "cell_type": "markdown",
   "id": "15a08ab9",
   "metadata": {},
   "source": [
    "# so, Tuple is an example of 'immutable' in Python (can't be changed once declared)"
   ]
  },
  {
   "cell_type": "code",
   "execution_count": 9,
   "id": "6289e969",
   "metadata": {},
   "outputs": [],
   "source": [
    "# garbage collection"
   ]
  },
  {
   "cell_type": "code",
   "execution_count": 10,
   "id": "47c12f7d",
   "metadata": {},
   "outputs": [],
   "source": [
    "a = [1,2,3,4]"
   ]
  },
  {
   "cell_type": "code",
   "execution_count": 11,
   "id": "e8867029",
   "metadata": {},
   "outputs": [],
   "source": [
    "b = a"
   ]
  },
  {
   "cell_type": "code",
   "execution_count": 12,
   "id": "8673a7ff",
   "metadata": {},
   "outputs": [
    {
     "data": {
      "text/plain": [
       "[1, 2, 3, 4]"
      ]
     },
     "execution_count": 12,
     "metadata": {},
     "output_type": "execute_result"
    }
   ],
   "source": [
    "a"
   ]
  },
  {
   "cell_type": "code",
   "execution_count": 13,
   "id": "38e70453",
   "metadata": {},
   "outputs": [
    {
     "data": {
      "text/plain": [
       "[1, 2, 3, 4]"
      ]
     },
     "execution_count": 13,
     "metadata": {},
     "output_type": "execute_result"
    }
   ],
   "source": [
    "b"
   ]
  },
  {
   "cell_type": "code",
   "execution_count": 14,
   "id": "268e65f7",
   "metadata": {},
   "outputs": [],
   "source": [
    "a = None"
   ]
  },
  {
   "cell_type": "code",
   "execution_count": 16,
   "id": "b879c61d",
   "metadata": {},
   "outputs": [],
   "source": [
    "a  #nothing prints, as became Null after assining None"
   ]
  },
  {
   "cell_type": "markdown",
   "id": "139b95a2",
   "metadata": {},
   "source": [
    "# list of tuple"
   ]
  },
  {
   "cell_type": "code",
   "execution_count": 18,
   "id": "56d95723",
   "metadata": {},
   "outputs": [],
   "source": [
    " li = [(1,2,3),(4,5,6),(7,8)]"
   ]
  },
  {
   "cell_type": "code",
   "execution_count": 19,
   "id": "cc072593",
   "metadata": {},
   "outputs": [
    {
     "data": {
      "text/plain": [
       "[(1, 2, 3), (4, 5, 6), (7, 8)]"
      ]
     },
     "execution_count": 19,
     "metadata": {},
     "output_type": "execute_result"
    }
   ],
   "source": [
    "li"
   ]
  },
  {
   "cell_type": "code",
   "execution_count": 20,
   "id": "bffb9a37",
   "metadata": {},
   "outputs": [
    {
     "data": {
      "text/plain": [
       "(1, 2, 3)"
      ]
     },
     "execution_count": 20,
     "metadata": {},
     "output_type": "execute_result"
    }
   ],
   "source": [
    "li[0]"
   ]
  },
  {
   "cell_type": "code",
   "execution_count": 23,
   "id": "a2589ed2",
   "metadata": {},
   "outputs": [
    {
     "data": {
      "text/plain": [
       "1"
      ]
     },
     "execution_count": 23,
     "metadata": {},
     "output_type": "execute_result"
    }
   ],
   "source": [
    "li[0][0]      #to get an idividual "
   ]
  },
  {
   "cell_type": "code",
   "execution_count": 24,
   "id": "67d6acc1",
   "metadata": {},
   "outputs": [
    {
     "data": {
      "text/plain": [
       "2"
      ]
     },
     "execution_count": 24,
     "metadata": {},
     "output_type": "execute_result"
    }
   ],
   "source": [
    "li[0][1]"
   ]
  },
  {
   "cell_type": "code",
   "execution_count": 34,
   "id": "f6640541",
   "metadata": {},
   "outputs": [
    {
     "ename": "TypeError",
     "evalue": "'tuple' object does not support item assignment",
     "output_type": "error",
     "traceback": [
      "\u001b[0;31m---------------------------------------------------------------------------\u001b[0m",
      "\u001b[0;31mTypeError\u001b[0m                                 Traceback (most recent call last)",
      "Cell \u001b[0;32mIn[34], line 1\u001b[0m\n\u001b[0;32m----> 1\u001b[0m li[\u001b[38;5;241m0\u001b[39m][\u001b[38;5;241m1\u001b[39m] \u001b[38;5;241m=\u001b[39m \u001b[38;5;241m222\u001b[39m\n",
      "\u001b[0;31mTypeError\u001b[0m: 'tuple' object does not support item assignment"
     ]
    }
   ],
   "source": [
    "li[0][1] = 222     #li[][] means tupple; immutable"
   ]
  },
  {
   "cell_type": "code",
   "execution_count": 29,
   "id": "101e0fbc",
   "metadata": {},
   "outputs": [
    {
     "data": {
      "text/plain": [
       "(1, 2, 3)"
      ]
     },
     "execution_count": 29,
     "metadata": {},
     "output_type": "execute_result"
    }
   ],
   "source": [
    "li[0]"
   ]
  },
  {
   "cell_type": "code",
   "execution_count": 32,
   "id": "e00ddffa",
   "metadata": {},
   "outputs": [],
   "source": [
    "li[0] = (11,22,33)   #list[] is mutable"
   ]
  },
  {
   "cell_type": "code",
   "execution_count": 33,
   "id": "62ebb1d1",
   "metadata": {},
   "outputs": [
    {
     "data": {
      "text/plain": [
       "[(11, 22, 33), (4, 5, 6), (7, 8)]"
      ]
     },
     "execution_count": 33,
     "metadata": {},
     "output_type": "execute_result"
    }
   ],
   "source": [
    "li"
   ]
  },
  {
   "cell_type": "markdown",
   "id": "0674ed52",
   "metadata": {},
   "source": [
    "# tuple of list"
   ]
  },
  {
   "cell_type": "code",
   "execution_count": 36,
   "id": "2512056c",
   "metadata": {},
   "outputs": [],
   "source": [
    " tup = ([1,2,3],[4,5,6])"
   ]
  },
  {
   "cell_type": "code",
   "execution_count": 37,
   "id": "0751a5fd",
   "metadata": {},
   "outputs": [
    {
     "data": {
      "text/plain": [
       "([1, 2, 3], [4, 5, 6])"
      ]
     },
     "execution_count": 37,
     "metadata": {},
     "output_type": "execute_result"
    }
   ],
   "source": [
    "tup"
   ]
  },
  {
   "cell_type": "code",
   "execution_count": 38,
   "id": "c7df8356",
   "metadata": {},
   "outputs": [
    {
     "data": {
      "text/plain": [
       "[1, 2, 3]"
      ]
     },
     "execution_count": 38,
     "metadata": {},
     "output_type": "execute_result"
    }
   ],
   "source": [
    "tup[0]"
   ]
  },
  {
   "cell_type": "code",
   "execution_count": 39,
   "id": "a226ee55",
   "metadata": {},
   "outputs": [
    {
     "data": {
      "text/plain": [
       "1"
      ]
     },
     "execution_count": 39,
     "metadata": {},
     "output_type": "execute_result"
    }
   ],
   "source": [
    "tup[0][0]"
   ]
  },
  {
   "cell_type": "code",
   "execution_count": 40,
   "id": "933f81a0",
   "metadata": {},
   "outputs": [],
   "source": [
    "#lets try their mutability / immutability"
   ]
  },
  {
   "cell_type": "code",
   "execution_count": 42,
   "id": "76eea534",
   "metadata": {},
   "outputs": [],
   "source": [
    "tup[0][0] = 111      #list[][] is mutable"
   ]
  },
  {
   "cell_type": "code",
   "execution_count": 43,
   "id": "a1e089c3",
   "metadata": {},
   "outputs": [
    {
     "ename": "TypeError",
     "evalue": "'tuple' object does not support item assignment",
     "output_type": "error",
     "traceback": [
      "\u001b[0;31m---------------------------------------------------------------------------\u001b[0m",
      "\u001b[0;31mTypeError\u001b[0m                                 Traceback (most recent call last)",
      "Cell \u001b[0;32mIn[43], line 1\u001b[0m\n\u001b[0;32m----> 1\u001b[0m tup[\u001b[38;5;241m0\u001b[39m] \u001b[38;5;241m=\u001b[39m [\u001b[38;5;241m11\u001b[39m,\u001b[38;5;241m22\u001b[39m,\u001b[38;5;241m33\u001b[39m]\n",
      "\u001b[0;31mTypeError\u001b[0m: 'tuple' object does not support item assignment"
     ]
    }
   ],
   "source": [
    "tup[0] = [11,22,33]   #tupple is immutable"
   ]
  },
  {
   "cell_type": "markdown",
   "id": "54f3da45",
   "metadata": {},
   "source": [
    "# set = {}"
   ]
  },
  {
   "cell_type": "code",
   "execution_count": 4,
   "id": "0c9e2193",
   "metadata": {},
   "outputs": [],
   "source": [
    "# same set as used in mathematics, duplicate values are not allowed"
   ]
  },
  {
   "cell_type": "code",
   "execution_count": 2,
   "id": "7b0c3eb8",
   "metadata": {},
   "outputs": [],
   "source": [
    "a = {1,2,3,4,5}"
   ]
  },
  {
   "cell_type": "code",
   "execution_count": 3,
   "id": "c78ee505",
   "metadata": {},
   "outputs": [
    {
     "data": {
      "text/plain": [
       "{1, 2, 3, 4, 5}"
      ]
     },
     "execution_count": 3,
     "metadata": {},
     "output_type": "execute_result"
    }
   ],
   "source": [
    "a"
   ]
  },
  {
   "cell_type": "markdown",
   "id": "353288c4",
   "metadata": {},
   "source": [
    "# dictionary = { \"key\" : \"values \", \"key2\" : \"value2\"}\n",
    "\n",
    "        keys should be unique"
   ]
  },
  {
   "cell_type": "code",
   "execution_count": 6,
   "id": "f4685738",
   "metadata": {},
   "outputs": [],
   "source": [
    "d = {\"name\": \"jewel\",\n",
    "    \"id\": \"234\"}"
   ]
  },
  {
   "cell_type": "code",
   "execution_count": 10,
   "id": "5c86153c",
   "metadata": {},
   "outputs": [
    {
     "data": {
      "text/plain": [
       "'jewel'"
      ]
     },
     "execution_count": 10,
     "metadata": {},
     "output_type": "execute_result"
    }
   ],
   "source": [
    "d['name']"
   ]
  },
  {
   "cell_type": "code",
   "execution_count": 13,
   "id": "8db1d727",
   "metadata": {},
   "outputs": [],
   "source": [
    "d['name'] = \"salman\"       #dictionary is mutable"
   ]
  },
  {
   "cell_type": "code",
   "execution_count": 14,
   "id": "5b0ad696",
   "metadata": {},
   "outputs": [
    {
     "data": {
      "text/plain": [
       "{'name': 'salman', 'id': '234'}"
      ]
     },
     "execution_count": 14,
     "metadata": {},
     "output_type": "execute_result"
    }
   ],
   "source": [
    "d"
   ]
  },
  {
   "cell_type": "markdown",
   "id": "04a40c95",
   "metadata": {},
   "source": [
    "# so in python mutable data are: list[], set{} and dictionary {\"key\":\"value\"}"
   ]
  },
  {
   "cell_type": "code",
   "execution_count": null,
   "id": "608ccf3a",
   "metadata": {},
   "outputs": [],
   "source": []
  }
 ],
 "metadata": {
  "kernelspec": {
   "display_name": "Python 3 (ipykernel)",
   "language": "python",
   "name": "python3"
  },
  "language_info": {
   "codemirror_mode": {
    "name": "ipython",
    "version": 3
   },
   "file_extension": ".py",
   "mimetype": "text/x-python",
   "name": "python",
   "nbconvert_exporter": "python",
   "pygments_lexer": "ipython3",
   "version": "3.10.9"
  }
 },
 "nbformat": 4,
 "nbformat_minor": 5
}
