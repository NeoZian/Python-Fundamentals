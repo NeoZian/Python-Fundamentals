{
 "cells": [
  {
   "cell_type": "code",
   "execution_count": 1,
   "id": "a844d9c4",
   "metadata": {},
   "outputs": [],
   "source": [
    "#conditionals"
   ]
  },
  {
   "cell_type": "code",
   "execution_count": 19,
   "id": "3da7d348",
   "metadata": {},
   "outputs": [],
   "source": [
    "a = 22"
   ]
  },
  {
   "cell_type": "code",
   "execution_count": 20,
   "id": "40d9eb5a",
   "metadata": {},
   "outputs": [
    {
     "name": "stdout",
     "output_type": "stream",
     "text": [
      "grater\n"
     ]
    }
   ],
   "source": [
    "if a > 11:\n",
    "    print(\"grater\")\n",
    "elif a < 7:\n",
    "    print(\"less\")\n",
    "elif a == 10:\n",
    "    print(\"equals 10\")\n",
    "else:\n",
    "    print(\"none above\")"
   ]
  },
  {
   "cell_type": "code",
   "execution_count": 24,
   "id": "84ef13d4",
   "metadata": {},
   "outputs": [],
   "source": [
    "if 0:\n",
    "    print(\"0 means false, so not gonna be printed\")"
   ]
  },
  {
   "cell_type": "code",
   "execution_count": 26,
   "id": "ff546a36",
   "metadata": {},
   "outputs": [
    {
     "name": "stdout",
     "output_type": "stream",
     "text": [
      "1 or any number means true, gonna run!\n"
     ]
    }
   ],
   "source": [
    "if 1:\n",
    "    print(\"1 or any number means true, gonna run!\")"
   ]
  },
  {
   "cell_type": "markdown",
   "id": "57c7adbc",
   "metadata": {},
   "source": [
    "# indentation"
   ]
  },
  {
   "cell_type": "code",
   "execution_count": 33,
   "id": "a695747b",
   "metadata": {},
   "outputs": [],
   "source": [
    "#indentation needs to strictly maintained in python, should be in same alignment under same(block, :)"
   ]
  },
  {
   "cell_type": "code",
   "execution_count": 34,
   "id": "c6ed67de",
   "metadata": {},
   "outputs": [
    {
     "name": "stdout",
     "output_type": "stream",
     "text": [
      "les go party!\n",
      "was it printed?\n"
     ]
    }
   ],
   "source": [
    "c = 100\n",
    "if c == 100:\n",
    "    print(\"les go party!\")\n",
    "    print(\"was it printed?\")"
   ]
  },
  {
   "cell_type": "markdown",
   "id": "517d6a3d",
   "metadata": {},
   "source": [
    "# loops"
   ]
  },
  {
   "cell_type": "code",
   "execution_count": 12,
   "id": "59f631d2",
   "metadata": {},
   "outputs": [
    {
     "name": "stdout",
     "output_type": "stream",
     "text": [
      "0\n",
      "1\n",
      "2\n",
      "3\n",
      "4\n"
     ]
    }
   ],
   "source": [
    "for i in range(5):  #prints from range 0 to 4, the loop rotates for 5 times, 0,1,2,3,4\n",
    "    print(i)"
   ]
  },
  {
   "cell_type": "code",
   "execution_count": 13,
   "id": "c5628248",
   "metadata": {},
   "outputs": [
    {
     "name": "stdout",
     "output_type": "stream",
     "text": [
      "1\n",
      "2\n",
      "3\n",
      "4\n"
     ]
    }
   ],
   "source": [
    "for i in range(1,5):\n",
    "    print(i)             #prints from 1 to 4, range(start,end)"
   ]
  },
  {
   "cell_type": "code",
   "execution_count": 17,
   "id": "1ed74f4a",
   "metadata": {},
   "outputs": [
    {
     "name": "stdout",
     "output_type": "stream",
     "text": [
      "1\n",
      "4\n",
      "7\n",
      "10\n"
     ]
    }
   ],
   "source": [
    "for i in range(1,10+1,3):    #range(start,end,step_size)\n",
    "    print(i)"
   ]
  },
  {
   "cell_type": "code",
   "execution_count": 35,
   "id": "1da631af",
   "metadata": {},
   "outputs": [],
   "source": [
    "a = [1,2,3,4,5,6,7,8,9]"
   ]
  },
  {
   "cell_type": "code",
   "execution_count": 38,
   "id": "c348321b",
   "metadata": {},
   "outputs": [
    {
     "name": "stdout",
     "output_type": "stream",
     "text": [
      "1\n",
      "2\n",
      "3\n",
      "4\n",
      "5\n",
      "6\n",
      "7\n",
      "8\n",
      "9\n"
     ]
    }
   ],
   "source": [
    "for i in a:    #here, i is an interator\n",
    "    print(i)"
   ]
  },
  {
   "cell_type": "code",
   "execution_count": 39,
   "id": "d9dc208b",
   "metadata": {},
   "outputs": [],
   "source": [
    " name = 'jewel'"
   ]
  },
  {
   "cell_type": "code",
   "execution_count": 40,
   "id": "d76c69ca",
   "metadata": {},
   "outputs": [
    {
     "name": "stdout",
     "output_type": "stream",
     "text": [
      "j\n",
      "e\n",
      "w\n",
      "e\n",
      "l\n"
     ]
    }
   ],
   "source": [
    "for n in name:\n",
    "    print(n)"
   ]
  },
  {
   "cell_type": "code",
   "execution_count": 41,
   "id": "f771b049",
   "metadata": {},
   "outputs": [],
   "source": [
    "#loops with index"
   ]
  },
  {
   "cell_type": "code",
   "execution_count": 55,
   "id": "8a880055",
   "metadata": {},
   "outputs": [
    {
     "name": "stdout",
     "output_type": "stream",
     "text": [
      "index,0 = 1\n",
      "index,1 = 2\n",
      "index,2 = 3\n",
      "index,3 = 4\n",
      "index,4 = 5\n",
      "index,5 = 6\n",
      "index,6 = 7\n",
      "index,7 = 8\n",
      "index,8 = 9\n"
     ]
    }
   ],
   "source": [
    "for i, it in enumerate(a):\n",
    "    print(\"index,\"+str(i)+\" = \" +str(it))"
   ]
  },
  {
   "cell_type": "code",
   "execution_count": 56,
   "id": "350bdd90",
   "metadata": {},
   "outputs": [],
   "source": [
    "#or"
   ]
  },
  {
   "cell_type": "code",
   "execution_count": 57,
   "id": "1e7d7d2e",
   "metadata": {},
   "outputs": [
    {
     "name": "stdout",
     "output_type": "stream",
     "text": [
      "index,0 = 1\n",
      "index,1 = 2\n",
      "index,2 = 3\n",
      "index,3 = 4\n",
      "index,4 = 5\n",
      "index,5 = 6\n",
      "index,6 = 7\n",
      "index,7 = 8\n",
      "index,8 = 9\n"
     ]
    }
   ],
   "source": [
    "for i, it in enumerate(a):\n",
    "    print(\"index,\"+str(i)+\" = \" +str(a[i]))  #since a[i] is same as the ietrator itself--> it"
   ]
  },
  {
   "cell_type": "code",
   "execution_count": 2,
   "id": "71f3c52b",
   "metadata": {},
   "outputs": [
    {
     "name": "stdout",
     "output_type": "stream",
     "text": [
      "0 11\n",
      "1 22\n",
      "2 33\n",
      "3 44\n",
      "4 55\n",
      "5 66\n",
      "6 77\n"
     ]
    }
   ],
   "source": [
    "lis = [11,22,33,44,55,66,77] \n",
    "for index, iterator in enumerate(lis):\n",
    "    print(index,iterator)"
   ]
  },
  {
   "cell_type": "code",
   "execution_count": 3,
   "id": "8e1a2c8f",
   "metadata": {},
   "outputs": [],
   "source": [
    "#swap"
   ]
  },
  {
   "cell_type": "code",
   "execution_count": 4,
   "id": "5afea0f5",
   "metadata": {},
   "outputs": [],
   "source": [
    "a=10\n",
    "b=50"
   ]
  },
  {
   "cell_type": "code",
   "execution_count": 8,
   "id": "ad307445",
   "metadata": {},
   "outputs": [],
   "source": [
    "a,b = b,a   #alterred"
   ]
  },
  {
   "cell_type": "code",
   "execution_count": 9,
   "id": "ff1078f9",
   "metadata": {},
   "outputs": [
    {
     "data": {
      "text/plain": [
       "10"
      ]
     },
     "execution_count": 9,
     "metadata": {},
     "output_type": "execute_result"
    }
   ],
   "source": [
    "a"
   ]
  },
  {
   "cell_type": "code",
   "execution_count": 10,
   "id": "7a219d3f",
   "metadata": {},
   "outputs": [
    {
     "data": {
      "text/plain": [
       "50"
      ]
     },
     "execution_count": 10,
     "metadata": {},
     "output_type": "execute_result"
    }
   ],
   "source": [
    "b"
   ]
  },
  {
   "cell_type": "markdown",
   "id": "0d97dd6a",
   "metadata": {},
   "source": [
    "# while"
   ]
  },
  {
   "cell_type": "code",
   "execution_count": 25,
   "id": "bec9b6f9",
   "metadata": {},
   "outputs": [
    {
     "name": "stdout",
     "output_type": "stream",
     "text": [
      "5\n",
      "4\n",
      "3\n",
      "2\n",
      "1\n"
     ]
    }
   ],
   "source": [
    "c = 5\n",
    "while c<=5 and c>0:\n",
    "    print(c)\n",
    "    c -= 1\n",
    "    "
   ]
  },
  {
   "cell_type": "code",
   "execution_count": 27,
   "id": "38b3e924",
   "metadata": {},
   "outputs": [
    {
     "data": {
      "text/plain": [
       "range(0, 6)"
      ]
     },
     "execution_count": 27,
     "metadata": {},
     "output_type": "execute_result"
    }
   ],
   "source": [
    "range(6)"
   ]
  },
  {
   "cell_type": "code",
   "execution_count": 28,
   "id": "342a2d6a",
   "metadata": {},
   "outputs": [],
   "source": [
    "y = range(3,9)"
   ]
  },
  {
   "cell_type": "code",
   "execution_count": 29,
   "id": "b0d37d23",
   "metadata": {},
   "outputs": [
    {
     "data": {
      "text/plain": [
       "range(3, 9)"
      ]
     },
     "execution_count": 29,
     "metadata": {},
     "output_type": "execute_result"
    }
   ],
   "source": [
    "y"
   ]
  },
  {
   "cell_type": "code",
   "execution_count": 32,
   "id": "c01fd4be",
   "metadata": {},
   "outputs": [],
   "source": [
    "y = list(range(1,10,2))  #list keyword is enlisting the all the values at range 1 to 10 for step 2"
   ]
  },
  {
   "cell_type": "code",
   "execution_count": 33,
   "id": "19ee3dd9",
   "metadata": {},
   "outputs": [
    {
     "data": {
      "text/plain": [
       "[1, 3, 5, 7, 9]"
      ]
     },
     "execution_count": 33,
     "metadata": {},
     "output_type": "execute_result"
    }
   ],
   "source": [
    "y"
   ]
  },
  {
   "cell_type": "code",
   "execution_count": 42,
   "id": "71d51237",
   "metadata": {},
   "outputs": [],
   "source": [
    "zz = [i for i in range(1,5)]"
   ]
  },
  {
   "cell_type": "code",
   "execution_count": 43,
   "id": "3029ecfa",
   "metadata": {},
   "outputs": [
    {
     "data": {
      "text/plain": [
       "[1, 2, 3, 4]"
      ]
     },
     "execution_count": 43,
     "metadata": {},
     "output_type": "execute_result"
    }
   ],
   "source": [
    "zz"
   ]
  },
  {
   "cell_type": "code",
   "execution_count": null,
   "id": "a00e8663",
   "metadata": {},
   "outputs": [],
   "source": []
  }
 ],
 "metadata": {
  "kernelspec": {
   "display_name": "Python 3 (ipykernel)",
   "language": "python",
   "name": "python3"
  },
  "language_info": {
   "codemirror_mode": {
    "name": "ipython",
    "version": 3
   },
   "file_extension": ".py",
   "mimetype": "text/x-python",
   "name": "python",
   "nbconvert_exporter": "python",
   "pygments_lexer": "ipython3",
   "version": "3.10.9"
  }
 },
 "nbformat": 4,
 "nbformat_minor": 5
}
