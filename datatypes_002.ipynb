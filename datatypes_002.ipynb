{
 "cells": [
  {
   "cell_type": "markdown",
   "id": "30d99090",
   "metadata": {},
   "source": [
    "# slicing and comprehension"
   ]
  },
  {
   "cell_type": "code",
   "execution_count": 2,
   "id": "01595e05",
   "metadata": {},
   "outputs": [],
   "source": [
    "#slicing"
   ]
  },
  {
   "cell_type": "code",
   "execution_count": 2,
   "id": "f6ce1c79",
   "metadata": {},
   "outputs": [],
   "source": [
    "a = [1,2,3,4,5,6,7,88,99,0]"
   ]
  },
  {
   "cell_type": "code",
   "execution_count": 3,
   "id": "cbaeddc1",
   "metadata": {},
   "outputs": [
    {
     "data": {
      "text/plain": [
       "[88, 99, 0]"
      ]
     },
     "execution_count": 3,
     "metadata": {},
     "output_type": "execute_result"
    }
   ],
   "source": [
    "a[7:]      #list [starting_index : ending_index] to print certain elements from the list"
   ]
  },
  {
   "cell_type": "code",
   "execution_count": 4,
   "id": "8656f1fc",
   "metadata": {},
   "outputs": [
    {
     "data": {
      "text/plain": [
       "[1, 2, 3, 4, 5, 6, 7, 88, 99, 0]"
      ]
     },
     "execution_count": 4,
     "metadata": {},
     "output_type": "execute_result"
    }
   ],
   "source": [
    "a[:]   #means to print all the elements :"
   ]
  },
  {
   "cell_type": "code",
   "execution_count": 5,
   "id": "45992aab",
   "metadata": {},
   "outputs": [
    {
     "data": {
      "text/plain": [
       "[1, 2, 3]"
      ]
     },
     "execution_count": 5,
     "metadata": {},
     "output_type": "execute_result"
    }
   ],
   "source": [
    "a[0:3]    #3 is exclusive here, 0 is inclusinve, that means it will print a[0],a[1],a[2] only "
   ]
  },
  {
   "cell_type": "code",
   "execution_count": 6,
   "id": "c9baec51",
   "metadata": {},
   "outputs": [
    {
     "data": {
      "text/plain": [
       "[0]"
      ]
     },
     "execution_count": 6,
     "metadata": {},
     "output_type": "execute_result"
    }
   ],
   "source": [
    "a[-1:]   #from -1 to end"
   ]
  },
  {
   "cell_type": "code",
   "execution_count": 15,
   "id": "60c90b18",
   "metadata": {},
   "outputs": [
    {
     "data": {
      "text/plain": [
       "[0, 99, 88, 7, 6, 5, 4, 3, 2, 1]"
      ]
     },
     "execution_count": 15,
     "metadata": {},
     "output_type": "execute_result"
    }
   ],
   "source": [
    "a[-1::-1]    #all the elements from -1, at -1 steps backward, list[start_index::stpe_size], reverse"
   ]
  },
  {
   "cell_type": "markdown",
   "id": "b5b8ab73",
   "metadata": {},
   "source": [
    "# :: is used to specify the step size in python; known as slicing"
   ]
  },
  {
   "cell_type": "code",
   "execution_count": 9,
   "id": "54e2cae5",
   "metadata": {},
   "outputs": [
    {
     "data": {
      "text/plain": [
       "[0, 99, 88, 7, 6, 5, 4, 3, 2, 1]"
      ]
     },
     "execution_count": 9,
     "metadata": {},
     "output_type": "execute_result"
    }
   ],
   "source": [
    "#reverse\n",
    "a[::-1]"
   ]
  },
  {
   "cell_type": "code",
   "execution_count": 12,
   "id": "60e62e9d",
   "metadata": {},
   "outputs": [
    {
     "data": {
      "text/plain": [
       "[1, 3, 5, 7, 99]"
      ]
     },
     "execution_count": 12,
     "metadata": {},
     "output_type": "execute_result"
    }
   ],
   "source": [
    "#even_indexed_elements\n",
    "a[::2]"
   ]
  },
  {
   "cell_type": "code",
   "execution_count": 14,
   "id": "ce2d3427",
   "metadata": {},
   "outputs": [
    {
     "data": {
      "text/plain": [
       "[2, 5, 88]"
      ]
     },
     "execution_count": 14,
     "metadata": {},
     "output_type": "execute_result"
    }
   ],
   "source": [
    "#Skip elements with a step size of 3, starting from index 1\n",
    "a[1::3]"
   ]
  },
  {
   "cell_type": "code",
   "execution_count": null,
   "id": "6b9f1c61",
   "metadata": {},
   "outputs": [],
   "source": []
  }
 ],
 "metadata": {
  "kernelspec": {
   "display_name": "Python 3 (ipykernel)",
   "language": "python",
   "name": "python3"
  },
  "language_info": {
   "codemirror_mode": {
    "name": "ipython",
    "version": 3
   },
   "file_extension": ".py",
   "mimetype": "text/x-python",
   "name": "python",
   "nbconvert_exporter": "python",
   "pygments_lexer": "ipython3",
   "version": "3.10.9"
  }
 },
 "nbformat": 4,
 "nbformat_minor": 5
}
